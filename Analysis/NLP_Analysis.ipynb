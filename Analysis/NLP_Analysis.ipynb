{
 "cells": [
  {
   "cell_type": "code",
   "execution_count": 13,
   "metadata": {},
   "outputs": [],
   "source": [
    "import pandas as pd\n",
    "import sys\n",
    "import os\n",
    "from gensim import corpora\n",
    "from gensim.parsing.preprocessing import strip_non_alphanum\n",
    "\n",
    "if sys.platform == \"linux\":\n",
    "    studies_path = \"/home/wiktor/git/MasterThesis/Literature/Competition_Studies_Database/studies.json\"\n",
    "    authors_path = \"/home/wiktor/git/MasterThesis/Literature/Competition_Studies_Database/authors.json\"\n",
    "    studies_location = \"/home/wiktor/Dropbox/Git/MasterThesis/Literature/Competition_Studies_Database/\"\n",
    "else:    \n",
    "    studies_path = \"/Users/Wiktor/Dropbox/Git/MasterThesis/Literature/Competition_Studies_Database/studies.json\"\n",
    "    authors_path = \"/Users/Wiktor/Dropbox/Git/MasterThesis/Literature/Competition_Studies_Database/authors.json\"\n",
    "    studies_location = \"/Users/Wiktor/Dropbox/Git/MasterThesis/Literature/Competition_Studies_Database/\"\n",
    "\n",
    "def read_txt_studies(studies_location):\n",
    "    \"\"\"\n",
    "    Reads all of the .txt files from given location\n",
    "    \n",
    "    Returns:\n",
    "    - list of all texts\n",
    "    \"\"\"\n",
    "    \n",
    "    # Get .txt files from the directory\n",
    "    study_files = [file for file in os.listdir(studies_location) if '.txt' in file]\n",
    "\n",
    "    # Remove extensions\n",
    "    study_labels = [x.split('.')[0] for x in study_files]\n",
    "\n",
    "    # Create file paths from files and their location\n",
    "    study_paths = [studies_location + x for x in study_files]\n",
    "\n",
    "\n",
    "    studies = []\n",
    "    for text in study_paths:\n",
    "\n",
    "        with open(text, 'r') as file:\n",
    "            studies.append(file.read().replace('\\n', ' '))\n",
    "\n",
    "    df_studies = pd.DataFrame()\n",
    "    df_studies['document'] = studies\n",
    "    df_studies['label'] = study_labels\n",
    "    return df_studies\n",
    "\n",
    "# Documents collection with labels\n",
    "df_documents = read_txt_studies(studies_location)\n",
    "\n",
    "# List of all documents\n",
    "documents = df_documents['document'].tolist()"
   ]
  },
  {
   "cell_type": "code",
   "execution_count": 14,
   "metadata": {},
   "outputs": [],
   "source": [
    "# List of stopwords, can be extended see: Stone, Denis, Kwantes (2010)\n",
    "STOPWORDS = ['for', 'a', 'of', 'the', 'and', 'to', 'in'] \n",
    "\n",
    "# Transform documents: tokenize and make lower case\n",
    "texts = [[word for word in text.lower().split()] for text in documents]\n",
    "\n",
    "# Exclude stop words\n",
    "texts = [[word for word in text if word not in STOPWORDS] for text in texts]\n",
    "\n",
    "# Exclude non unicode characters\n",
    "texts = [[strip_non_alphanum(word) for word in text] for text in texts]"
   ]
  },
  {
   "cell_type": "code",
   "execution_count": 16,
   "metadata": {},
   "outputs": [],
   "source": [
    "# The strip unicode does not work well, you can do better, it places \" \" in the strange characters and removes - "
   ]
  }
 ],
 "metadata": {
  "kernelspec": {
   "display_name": "Python 3",
   "language": "python",
   "name": "python3"
  },
  "language_info": {
   "codemirror_mode": {
    "name": "ipython",
    "version": 3
   },
   "file_extension": ".py",
   "mimetype": "text/x-python",
   "name": "python",
   "nbconvert_exporter": "python",
   "pygments_lexer": "ipython3",
   "version": "3.6.4"
  }
 },
 "nbformat": 4,
 "nbformat_minor": 2
}
